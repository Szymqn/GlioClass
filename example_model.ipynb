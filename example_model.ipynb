{
 "cells": [
  {
   "cell_type": "code",
   "execution_count": 1,
   "id": "initial_id",
   "metadata": {
    "collapsed": true,
    "ExecuteTime": {
     "end_time": "2024-01-22T22:51:43.537336900Z",
     "start_time": "2024-01-22T22:51:42.297085200Z"
    }
   },
   "outputs": [],
   "source": [
    "import package_.preprocessing as preprocessing\n",
    "import package_.featureSelection as featureSelection\n",
    "import package_.classifier as classifier\n",
    "import package_.performanceMetrics as performanceMetrics"
   ]
  },
  {
   "cell_type": "code",
   "outputs": [
    {
     "name": "stdout",
     "output_type": "stream",
     "text": [
      "All columns are numeric\n",
      "   class       SFTPC      SLC6A4      CLDN18        AGER       ITLN2  \\\n",
      "0      0  1956543357  1194806369  1431426819    15756623  9202700052   \n",
      "1      0  1882400352  1212759862  1410754294  1466652971  7496015673   \n",
      "2      0   185419824   117178896  1350193883  1493867899  8440654097   \n",
      "3      0  1883454212  8590519685  1413681776  1401127311  7259752678   \n",
      "4      0   189885652  1090221599  1382853275  1586313843  9767982962   \n",
      "\n",
      "         LGI3    C13orf36      FAM83A       FABP4  ...        NEXN  \\\n",
      "0  1104918265   781892276  4642643817  1200926661  ...  9059098627   \n",
      "1  1095692946   599455936  4397002003  1340728849  ...  8334597771   \n",
      "2   974068509  7331127442  1885183866  1395746318  ...  9298702299   \n",
      "3  1083758008  4755827619  3122490507   850509221  ...    72414951   \n",
      "4  1135184185  9122156047  5235413063  1081828059  ...  9521703289   \n",
      "\n",
      "       RASSF8        NKD1     PLEKHH2        EDN2       WDR86      CHRNB4  \\\n",
      "0  9661630615  7501576879  9103011571  2953097582  4219718383   459116814   \n",
      "1  9468622007  5375091576  8509453578  5702740646  4540306306   790605243   \n",
      "2   983135887  7455911578  8642815992  6183097403  5274858001   621805735   \n",
      "3  9734491337  4948227044  8501260788  3122490507  2761646966           0   \n",
      "4  1000492591  8256334196  1013001526  1345282818  4646168419  1158789414   \n",
      "\n",
      "       RNF128    C11orf21      APOLD1  \n",
      "0  9332454634  6570503916  9026301004  \n",
      "1  9044077675  7632261671  8920244761  \n",
      "2  8867469336   551476612  9829651391  \n",
      "3  9414209755  4755827619  1011022437  \n",
      "4  1013041187  5370506078  1007872644  \n",
      "\n",
      "[5 rows x 2001 columns]\n"
     ]
    }
   ],
   "source": [
    "pr = preprocessing.DataPreprocessing()\n",
    "pr.loadData('test_data/exampleData_TCGA_LUAD_2000.csv')\n",
    "pr.showData()"
   ],
   "metadata": {
    "collapsed": false,
    "ExecuteTime": {
     "end_time": "2024-01-22T22:51:43.679595200Z",
     "start_time": "2024-01-22T22:51:43.537336900Z"
    }
   },
   "id": "4ee9dcac80bb568f",
   "execution_count": 2
  },
  {
   "cell_type": "code",
   "outputs": [],
   "source": [
    "X, y = pr.setTarget('class')"
   ],
   "metadata": {
    "collapsed": false,
    "ExecuteTime": {
     "end_time": "2024-01-22T22:51:43.690336100Z",
     "start_time": "2024-01-22T22:51:43.678595300Z"
    }
   },
   "id": "f106a2c26b18c9bb",
   "execution_count": 3
  },
  {
   "cell_type": "code",
   "outputs": [],
   "source": [
    "lasso_features = featureSelection.FeatureSelection(X, y, 'lasso', 100)()"
   ],
   "metadata": {
    "collapsed": false,
    "ExecuteTime": {
     "end_time": "2024-01-22T22:51:43.727919300Z",
     "start_time": "2024-01-22T22:51:43.698199800Z"
    }
   },
   "id": "44292a0e9a87707a",
   "execution_count": 4
  },
  {
   "cell_type": "code",
   "outputs": [],
   "source": [
    "clf1 = classifier.Classifier(X, y, features=lasso_features, classifiers=['adaboost'], cross_validation='k_fold', fold=3)"
   ],
   "metadata": {
    "collapsed": false,
    "ExecuteTime": {
     "end_time": "2024-01-22T22:51:44.822769300Z",
     "start_time": "2024-01-22T22:51:43.724735500Z"
    }
   },
   "id": "fcd9548a309ca21",
   "execution_count": 5
  },
  {
   "cell_type": "code",
   "outputs": [
    {
     "name": "stdout",
     "output_type": "stream",
     "text": [
      "ACC:0.8923338423502036\n"
     ]
    }
   ],
   "source": [
    "pm = performanceMetrics.PerformanceMetrics(clf1.y_test, clf1.predictions['adaboost'], fold=clf1.fold)\n",
    "print(pm.accuracyScore())"
   ],
   "metadata": {
    "collapsed": false,
    "ExecuteTime": {
     "end_time": "2024-01-22T22:51:44.832401Z",
     "start_time": "2024-01-22T22:51:44.823857500Z"
    }
   },
   "id": "eb3a6e08217190e0",
   "execution_count": 6
  }
 ],
 "metadata": {
  "kernelspec": {
   "display_name": "Python 3",
   "language": "python",
   "name": "python3"
  },
  "language_info": {
   "codemirror_mode": {
    "name": "ipython",
    "version": 2
   },
   "file_extension": ".py",
   "mimetype": "text/x-python",
   "name": "python",
   "nbconvert_exporter": "python",
   "pygments_lexer": "ipython2",
   "version": "2.7.6"
  }
 },
 "nbformat": 4,
 "nbformat_minor": 5
}
