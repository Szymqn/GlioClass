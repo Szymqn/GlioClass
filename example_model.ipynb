{
 "cells": [
  {
   "cell_type": "markdown",
   "source": [
    "Import package"
   ],
   "metadata": {
    "collapsed": false
   },
   "id": "eec690cb526c5b18"
  },
  {
   "cell_type": "code",
   "execution_count": 1,
   "id": "initial_id",
   "metadata": {
    "collapsed": true,
    "ExecuteTime": {
     "end_time": "2024-01-24T00:46:21.596664900Z",
     "start_time": "2024-01-24T00:46:20.116308900Z"
    }
   },
   "outputs": [],
   "source": [
    "import package_.preprocessing as preprocessing\n",
    "import package_.featureSelection as featureSelection\n",
    "import package_.classifier as classifier\n",
    "import package_.ensemble as ensemble\n",
    "import package_.performanceMetrics as performanceMetrics"
   ]
  },
  {
   "cell_type": "markdown",
   "source": [
    "Preprocessing"
   ],
   "metadata": {
    "collapsed": false
   },
   "id": "9c773fb1a4dfdbe6"
  },
  {
   "cell_type": "code",
   "outputs": [
    {
     "name": "stdout",
     "output_type": "stream",
     "text": [
      "All columns are numeric\n",
      "   class       SFTPC      SLC6A4      CLDN18        AGER       ITLN2  \\\n",
      "0      0  1956543357  1194806369  1431426819    15756623  9202700052   \n",
      "1      0  1882400352  1212759862  1410754294  1466652971  7496015673   \n",
      "2      0   185419824   117178896  1350193883  1493867899  8440654097   \n",
      "3      0  1883454212  8590519685  1413681776  1401127311  7259752678   \n",
      "4      0   189885652  1090221599  1382853275  1586313843  9767982962   \n",
      "\n",
      "         LGI3    C13orf36      FAM83A       FABP4  ...        NEXN  \\\n",
      "0  1104918265   781892276  4642643817  1200926661  ...  9059098627   \n",
      "1  1095692946   599455936  4397002003  1340728849  ...  8334597771   \n",
      "2   974068509  7331127442  1885183866  1395746318  ...  9298702299   \n",
      "3  1083758008  4755827619  3122490507   850509221  ...    72414951   \n",
      "4  1135184185  9122156047  5235413063  1081828059  ...  9521703289   \n",
      "\n",
      "       RASSF8        NKD1     PLEKHH2        EDN2       WDR86      CHRNB4  \\\n",
      "0  9661630615  7501576879  9103011571  2953097582  4219718383   459116814   \n",
      "1  9468622007  5375091576  8509453578  5702740646  4540306306   790605243   \n",
      "2   983135887  7455911578  8642815992  6183097403  5274858001   621805735   \n",
      "3  9734491337  4948227044  8501260788  3122490507  2761646966           0   \n",
      "4  1000492591  8256334196  1013001526  1345282818  4646168419  1158789414   \n",
      "\n",
      "       RNF128    C11orf21      APOLD1  \n",
      "0  9332454634  6570503916  9026301004  \n",
      "1  9044077675  7632261671  8920244761  \n",
      "2  8867469336   551476612  9829651391  \n",
      "3  9414209755  4755827619  1011022437  \n",
      "4  1013041187  5370506078  1007872644  \n",
      "\n",
      "[5 rows x 2001 columns]\n"
     ]
    }
   ],
   "source": [
    "pr = preprocessing.DataPreprocessing()\n",
    "pr.loadData('test_data/exampleData_TCGA_LUAD_2000.csv')\n",
    "pr.showData()"
   ],
   "metadata": {
    "collapsed": false,
    "ExecuteTime": {
     "end_time": "2024-01-24T00:46:21.753075100Z",
     "start_time": "2024-01-24T00:46:21.596664900Z"
    }
   },
   "id": "4ee9dcac80bb568f",
   "execution_count": 2
  },
  {
   "cell_type": "code",
   "outputs": [],
   "source": [
    "X, y = pr.setTarget('class')"
   ],
   "metadata": {
    "collapsed": false,
    "ExecuteTime": {
     "end_time": "2024-01-24T00:46:21.764634200Z",
     "start_time": "2024-01-24T00:46:21.751522500Z"
    }
   },
   "id": "f106a2c26b18c9bb",
   "execution_count": 3
  },
  {
   "cell_type": "markdown",
   "source": [
    "Feature Selection"
   ],
   "metadata": {
    "collapsed": false
   },
   "id": "845cab84924ce33f"
  },
  {
   "cell_type": "code",
   "outputs": [],
   "source": [
    "lasso_features = featureSelection.FeatureSelection(X, y, 'lasso', 100)()"
   ],
   "metadata": {
    "collapsed": false,
    "ExecuteTime": {
     "end_time": "2024-01-24T00:46:21.798994300Z",
     "start_time": "2024-01-24T00:46:21.764634200Z"
    }
   },
   "id": "44292a0e9a87707a",
   "execution_count": 4
  },
  {
   "cell_type": "markdown",
   "source": [
    "Classifier"
   ],
   "metadata": {
    "collapsed": false
   },
   "id": "35ac4f4c4aeac338"
  },
  {
   "cell_type": "code",
   "outputs": [],
   "source": [
    "clf1 = classifier.Classifier(X, y, features=lasso_features, classifiers=['adaboost'], cross_validation='k_fold', fold=3)"
   ],
   "metadata": {
    "collapsed": false,
    "ExecuteTime": {
     "end_time": "2024-01-24T00:46:42.423023200Z",
     "start_time": "2024-01-24T00:46:41.621280700Z"
    }
   },
   "id": "fcd9548a309ca21",
   "execution_count": 12
  },
  {
   "cell_type": "code",
   "outputs": [
    {
     "data": {
      "text/plain": "'ACC:0.8923338423502036'"
     },
     "execution_count": 13,
     "metadata": {},
     "output_type": "execute_result"
    }
   ],
   "source": [
    "pm1 = performanceMetrics.PerformanceMetrics(clf1.y_test, clf1.predictions['adaboost'], fold=clf1.fold)\n",
    "pm1.accuracyScore()"
   ],
   "metadata": {
    "collapsed": false,
    "ExecuteTime": {
     "end_time": "2024-01-24T00:46:43.548831Z",
     "start_time": "2024-01-24T00:46:43.538738700Z"
    }
   },
   "id": "eb3a6e08217190e0",
   "execution_count": 13
  },
  {
   "cell_type": "markdown",
   "source": [
    "Ensemble"
   ],
   "metadata": {
    "collapsed": false
   },
   "id": "1b606ffa24d25bb9"
  },
  {
   "cell_type": "code",
   "outputs": [],
   "source": [
    "ens1 = ensemble.Ensemble(X, y, features=lasso_features, ensemble='Voting', classifiers=['random_forest'], cross_validation='k_fold', fold=3, voting='soft') "
   ],
   "metadata": {
    "collapsed": false,
    "ExecuteTime": {
     "end_time": "2024-01-24T00:46:22.806541200Z",
     "start_time": "2024-01-24T00:46:22.389939Z"
    }
   },
   "id": "b69c75e242846e8e",
   "execution_count": 7
  },
  {
   "cell_type": "code",
   "outputs": [
    {
     "data": {
      "text/plain": "'ACC:0.8905886416521233'"
     },
     "execution_count": 8,
     "metadata": {},
     "output_type": "execute_result"
    }
   ],
   "source": [
    "pm2 = performanceMetrics.PerformanceMetrics(ens1.y_test, ens1.predictions, fold=ens1.fold)\n",
    "pm2.accuracyScore()"
   ],
   "metadata": {
    "collapsed": false,
    "ExecuteTime": {
     "end_time": "2024-01-24T00:46:22.823130600Z",
     "start_time": "2024-01-24T00:46:22.807545500Z"
    }
   },
   "id": "7b3a9a443f350297",
   "execution_count": 8
  }
 ],
 "metadata": {
  "kernelspec": {
   "display_name": "Python 3",
   "language": "python",
   "name": "python3"
  },
  "language_info": {
   "codemirror_mode": {
    "name": "ipython",
    "version": 2
   },
   "file_extension": ".py",
   "mimetype": "text/x-python",
   "name": "python",
   "nbconvert_exporter": "python",
   "pygments_lexer": "ipython2",
   "version": "2.7.6"
  }
 },
 "nbformat": 4,
 "nbformat_minor": 5
}
